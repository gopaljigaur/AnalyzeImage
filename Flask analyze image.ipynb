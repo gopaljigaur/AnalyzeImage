{
 "cells": [
  {
   "cell_type": "code",
   "execution_count": 72,
   "metadata": {},
   "outputs": [],
   "source": [
    "import base64\n",
    "import io\n",
    "import json\n",
    "import os\n",
    "import sys\n",
    "\n",
    "import cv2 as cv\n",
    "import jsonpickle\n",
    "import numpy as np\n",
    "import requests\n",
    "from flask import Flask, Response, jsonify, request\n",
    "from PIL import Image, ImageFont, ImageDraw\n",
    "from titlecase import titlecase"
   ]
  },
  {
   "cell_type": "code",
   "execution_count": 73,
   "metadata": {},
   "outputs": [],
   "source": [
    "def analyze_img(rdata):\n",
    "    #receive base64 encoded string and convert it to binary\n",
    "    decoded_data = base64.b64decode(rdata)\n",
    "    #convert binary image to numpy array\n",
    "    np_data = np.frombuffer(decoded_data,np.uint8)\n",
    "    #encode numpy array to jepg image\n",
    "    image = cv.imdecode(np_data,cv.IMREAD_UNCHANGED)\n",
    "    \n",
    "    url = \"https://microsoft-azure-microsoft-computer-vision-v1.p.rapidapi.com/analyze\"\n",
    "\n",
    "    querystring = {\"visualfeatures\":\"Categories,Tags,Color,Faces,Description\"}\n",
    "    #sending the converted binary image\n",
    "    payload = decoded_data\n",
    "    headers = {\n",
    "        'x-rapidapi-host': \"microsoft-azure-microsoft-computer-vision-v1.p.rapidapi.com\",\n",
    "        'x-rapidapi-key': \"f5cf55a5c2msh4f27fe5644b39bdp157623jsn37b8f0da0884\",\n",
    "        'content-type': \"application/octet-stream\"\n",
    "        }\n",
    "    \n",
    "    resp = requests.request(\"POST\", url, data=payload, headers=headers, params=querystring)\n",
    "    \n",
    "    loaded_json = json.loads(resp.text)\n",
    "\n",
    "    faces = loaded_json['faces']\n",
    "    num_face = len(faces)\n",
    "    desc = loaded_json['description']\n",
    "    cel = loaded_json['categories'][0]['detail']['celebrities']\n",
    "    num_cel = len(cel)\n",
    "    img_title = titlecase(desc['captions'][0]['text'])\n",
    "    \n",
    "    tags = ', '.join([i for i in desc['tags'][0:8]])\n",
    "    \n",
    "    x1=np.zeros(num_face)\n",
    "    y1=np.zeros(num_face)\n",
    "    x2=np.zeros(num_face)\n",
    "    y2=np.zeros(num_face)\n",
    "    age = np.zeros(num_face)\n",
    "    gender = list()\n",
    "\n",
    "    for i in range(0,num_face):\n",
    "        x1[i] = faces[i]['faceRectangle']['left']\n",
    "        y1[i] = faces[i]['faceRectangle']['top']\n",
    "        x2[i] = faces[i]['faceRectangle']['width'] + x1[i]\n",
    "        y2[i] = faces[i]['faceRectangle']['height'] + y1[i]\n",
    "        age[i] = faces[i]['age']\n",
    "        gender.append(faces[i]['gender'])\n",
    "    \n",
    "\n",
    "    x_c = np.zeros(num_cel)\n",
    "    y_c = np.zeros(num_cel)\n",
    "    for i in range(0,num_cel):\n",
    "        x_c[i] = cel[i]['faceRectangle']['left']\n",
    "        y_c[i] = cel[i]['faceRectangle']['top']\n",
    "        if(x_c[i] in x1 and y_c[i] in y1):\n",
    "            if(np.where(x1==x_c[i])==np.where(y1==y_c[i])):\n",
    "                gender[i] = cel[i]['name']\n",
    "        \n",
    "    #drawing and naming face rectangles\n",
    "    for i in range(0,num_face):\n",
    "        cv.rectangle(image,(int(x1[i]),int(y1[i])),(int(x2[i]),int(y2[i])),(255,255,255),2)\n",
    "        #cv.putText(image, (gender[i] +\" \"+ str(int(age[i]))) , (int(x1[i]), int(y1[i])-5), cv.FONT_HERSHEY_SIMPLEX, 0.5,(255,255,255), 1)\n",
    "    \n",
    "    fontpath = \"./Roboto-Medium.ttf\"     \n",
    "    font = ImageFont.truetype(fontpath, 16)\n",
    "    \n",
    "    img_pil = Image.fromarray(image)\n",
    "    draw = ImageDraw.Draw(img_pil)\n",
    "    for i in range(0,num_face):\n",
    "        if (int(y1[i])-25)>0:\n",
    "            box_area = image[int(y1[i])-18:int(y1[i]),int(x1[i]):int(x2[i])]\n",
    "            textLoc = (int(x1[i]), int(y1[i])-18)\n",
    "            shadowLoc = (int(x1[i])+1, int(y1[i])-17)\n",
    "        elif (int(y1[i]))>0:\n",
    "            box_area = image[0:int(y1[i]),int(x1[i]):int(x2[i])]\n",
    "            textLoc = (int(x1[i]), int(y1[i])-18)\n",
    "            shadowLoc = (int(x1[i])+1, int(y1[i])-17)\n",
    "            \n",
    "        elif (int(y1[i]))==0:\n",
    "            box_area = image[int(y2[i]):int(y2[i])+20,int(x1[i]):int(x2[i])]\n",
    "            textLoc = (int(x1[i]), int(y2[i])+4)\n",
    "            shadowLoc = (int(x1[i])+1, int(y2[i])+5)\n",
    "        \n",
    "            \n",
    "        box_area = cv.cvtColor(box_area,cv.COLOR_BGR2GRAY)\n",
    "        ret,thresh = cv.threshold(box_area,127,255,cv.THRESH_BINARY)\n",
    "        average = np.sum(thresh)/thresh.size\n",
    "        if average<127:\n",
    "            textColor = (255,255,255,0)\n",
    "        else:\n",
    "            textColor = (0,0,0,0)\n",
    "        draw.text(shadowLoc,  gender[i] +\" \"+ str(int(age[i])), font = font, fill = (100,100,100,100))\n",
    "        draw.text(textLoc,  gender[i] +\" \"+ str(int(age[i])), font = font, fill = textColor)\n",
    "        \n",
    "    image = np.array(img_pil)\n",
    "    #converting jpeg to binary image\n",
    "    image = cv.imencode(\".jpg\",image)[1].tostring()\n",
    "    #converting binary to base64\n",
    "    img_base64 = base64.b64encode(image)\n",
    "    \n",
    "    return img_base64, img_title, tags"
   ]
  },
  {
   "cell_type": "code",
   "execution_count": 74,
   "metadata": {},
   "outputs": [
    {
     "name": "stdout",
     "output_type": "stream",
     "text": [
      " * Serving Flask app \"__main__\" (lazy loading)\n",
      " * Environment: production\n",
      "   WARNING: This is a development server. Do not use it in a production deployment.\n",
      "   Use a production WSGI server instead.\n",
      " * Debug mode: off\n"
     ]
    },
    {
     "name": "stderr",
     "output_type": "stream",
     "text": [
      " * Running on http://127.0.0.1:5000/ (Press CTRL+C to quit)\n",
      "127.0.0.1 - - [18/Apr/2020 16:23:08] \"\u001b[37mPOST /test HTTP/1.1\u001b[0m\" 200 -\n"
     ]
    },
    {
     "name": "stdout",
     "output_type": "stream",
     "text": [
      "%s : %s categories [{'name': 'people_group', 'score': 0.9296875, 'detail': {'celebrities': [{'name': 'Ellen Allien', 'confidence': 0.784461259841919, 'faceRectangle': {'left': 400, 'top': 135, 'width': 63, 'height': 63}}]}}]\n",
      "%s : %s color {'dominantColorForeground': 'Brown', 'dominantColorBackground': 'White', 'dominantColors': ['White', 'Brown'], 'accentColor': '993235', 'isBwImg': False, 'isBWImg': False}\n",
      "%s : %s tags [{'name': 'posing', 'confidence': 0.9999145269393921}, {'name': 'person', 'confidence': 0.9997639656066895}, {'name': 'smile', 'confidence': 0.9982526302337646}, {'name': 'human face', 'confidence': 0.9956151247024536}, {'name': 'group', 'confidence': 0.9899799823760986}, {'name': 'clothing', 'confidence': 0.9705418944358826}, {'name': 'standing', 'confidence': 0.9495656490325928}, {'name': 'woman', 'confidence': 0.9425917863845825}, {'name': 'man', 'confidence': 0.8123198747634888}, {'name': 'people', 'confidence': 0.7937123775482178}, {'name': 'girl', 'confidence': 0.6021360158920288}, {'name': 'friendship', 'confidence': 0.5858162641525269}, {'name': 'selfie', 'confidence': 0.5200912356376648}, {'name': 'dressed', 'confidence': 0.26935648918151855}]\n",
      "%s : %s description {'tags': ['posing', 'person', 'photo', 'group', 'standing', 'clothing', 'indoor', 'people', 'woman', 'young', 'man', 'dress', 'camera', 'dressed', 'holding', 'smiling', 'friends', 'team', 'school', 'white', 'shirt'], 'captions': [{'text': 'Ellen Allien et al. posing for a photo', 'confidence': 0.9922979691059041}]}\n",
      "%s : %s faces [{'age': 60, 'gender': 'Female', 'faceRectangle': {'left': 318, 'top': 123, 'width': 68, 'height': 68}}, {'age': 56, 'gender': 'Male', 'faceRectangle': {'left': 516, 'top': 46, 'width': 66, 'height': 66}}, {'age': 45, 'gender': 'Male', 'faceRectangle': {'left': 570, 'top': 128, 'width': 65, 'height': 65}}, {'age': 37, 'gender': 'Female', 'faceRectangle': {'left': 90, 'top': 159, 'width': 64, 'height': 64}}, {'age': 23, 'gender': 'Male', 'faceRectangle': {'left': 178, 'top': 46, 'width': 64, 'height': 64}}, {'age': 33, 'gender': 'Female', 'faceRectangle': {'left': 400, 'top': 135, 'width': 63, 'height': 63}}, {'age': 23, 'gender': 'Female', 'faceRectangle': {'left': 239, 'top': 153, 'width': 62, 'height': 62}}, {'age': 23, 'gender': 'Male', 'faceRectangle': {'left': 274, 'top': 62, 'width': 62, 'height': 62}}, {'age': 26, 'gender': 'Female', 'faceRectangle': {'left': 134, 'top': 149, 'width': 62, 'height': 62}}, {'age': 22, 'gender': 'Female', 'faceRectangle': {'left': 660, 'top': 117, 'width': 61, 'height': 61}}, {'age': 27, 'gender': 'Male', 'faceRectangle': {'left': 372, 'top': 59, 'width': 60, 'height': 60}}, {'age': 56, 'gender': 'Female', 'faceRectangle': {'left': 499, 'top': 146, 'width': 59, 'height': 59}}]\n",
      "%s : %s requestId a1991edf-c81e-4d75-98a3-7956b68167cc\n",
      "%s : %s metadata {'width': 825, 'height': 300, 'format': 'Jpeg'}\n",
      "1\n",
      "im here\n",
      "400.0\n",
      "135.0\n",
      "hhhh\n",
      "Ellen Allien\n",
      "Male\n",
      "Male\n",
      "Female\n",
      "Male\n",
      "Female\n",
      "Female\n",
      "Male\n",
      "Female\n",
      "Female\n",
      "Male\n",
      "Female\n"
     ]
    }
   ],
   "source": [
    "# Initialize the Flask application\n",
    "application = Flask(__name__)\n",
    "\n",
    "# route http posts to this method\n",
    "@application.route('/test',methods=['POST'])\n",
    "def test():\n",
    "    r = request\n",
    "    #try:\n",
    "    img_base64,img_title,tags = analyze_img(r.data)\n",
    "    return jsonify({'Image':str(img_base64),'Image_Title':img_title,'Image_Tags':tags})\n",
    "    #except:\n",
    "    #    return jsonify({'status':'An exception occurred'})\n",
    "@application.route('/',methods=['GET','POST'])\n",
    "def main():\n",
    "    return({'status':'Working'})\n",
    "\n",
    "# start flask app\n",
    "\n",
    "if __name__ == \"__main__\":\n",
    "    application.run()"
   ]
  },
  {
   "cell_type": "code",
   "execution_count": null,
   "metadata": {},
   "outputs": [],
   "source": []
  },
  {
   "cell_type": "code",
   "execution_count": null,
   "metadata": {},
   "outputs": [],
   "source": []
  },
  {
   "cell_type": "code",
   "execution_count": null,
   "metadata": {},
   "outputs": [],
   "source": []
  },
  {
   "cell_type": "code",
   "execution_count": null,
   "metadata": {},
   "outputs": [],
   "source": []
  }
 ],
 "metadata": {
  "kernelspec": {
   "display_name": "Python 3",
   "language": "python",
   "name": "python3"
  },
  "language_info": {
   "codemirror_mode": {
    "name": "ipython",
    "version": 3
   },
   "file_extension": ".py",
   "mimetype": "text/x-python",
   "name": "python",
   "nbconvert_exporter": "python",
   "pygments_lexer": "ipython3",
   "version": "3.7.4"
  },
  "varInspector": {
   "cols": {
    "lenName": 16,
    "lenType": 16,
    "lenVar": 40
   },
   "kernels_config": {
    "python": {
     "delete_cmd_postfix": "",
     "delete_cmd_prefix": "del ",
     "library": "var_list.py",
     "varRefreshCmd": "print(var_dic_list())"
    },
    "r": {
     "delete_cmd_postfix": ") ",
     "delete_cmd_prefix": "rm(",
     "library": "var_list.r",
     "varRefreshCmd": "cat(var_dic_list()) "
    }
   },
   "types_to_exclude": [
    "module",
    "function",
    "builtin_function_or_method",
    "instance",
    "_Feature"
   ],
   "window_display": false
  }
 },
 "nbformat": 4,
 "nbformat_minor": 2
}
